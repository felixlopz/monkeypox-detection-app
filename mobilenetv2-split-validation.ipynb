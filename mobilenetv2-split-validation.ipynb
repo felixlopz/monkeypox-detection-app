{
 "cells": [
  {
   "cell_type": "code",
   "execution_count": 1,
   "id": "a6185873-d4f8-4a08-a157-e0b686883522",
   "metadata": {},
   "outputs": [],
   "source": [
    "import os\n",
    "import cv2\n",
    "import numpy as np\n",
    "import tensorflow as tf\n",
    "import matplotlib.pyplot as plt\n",
    "from sklearn.model_selection import KFold, train_test_split\n",
    "from sklearn.metrics import precision_score, recall_score, f1_score, accuracy_score,confusion_matrix\n",
    "from tensorflow.keras.layers import Dense, GlobalAveragePooling2D\n",
    "from tensorflow.keras.models import Model\n",
    "from tensorflow.keras.applications import MobileNetV2\n",
    "from tensorflow.keras.callbacks import ReduceLROnPlateau\n",
    "import itertools"
   ]
  },
  {
   "cell_type": "code",
   "execution_count": 2,
   "id": "1dbc0321-aa74-44f7-a9a7-fdc59e76c477",
   "metadata": {},
   "outputs": [],
   "source": [
    "def load_dataset(dataset_path):\n",
    "    x_train = []\n",
    "    y_train = []\n",
    "    class_names = sorted(os.listdir(dataset_path))\n",
    "\n",
    "    for class_index, class_name in enumerate(class_names):\n",
    "        class_path = os.path.join(dataset_path, class_name)\n",
    "        if os.path.isdir(class_path):\n",
    "            for filename in os.listdir(class_path):\n",
    "                if filename.endswith(('.jpg', '.jpeg', '.png')):\n",
    "                    image_path = os.path.join(class_path, filename)\n",
    "                    image = cv2.imread(image_path)\n",
    "                    image = cv2.cvtColor(image, cv2.COLOR_BGR2RGB)\n",
    "                    image = np.array(image)\n",
    "                    image = image / 255.0\n",
    "                    if image is not None:\n",
    "                        x_train.append(image)\n",
    "                        y_train.append(class_index)\n",
    "\n",
    "    x_train = np.array(x_train)\n",
    "    y_train = np.array(y_train)\n",
    "\n",
    "    return x_train, y_train"
   ]
  },
  {
   "cell_type": "code",
   "execution_count": 3,
   "id": "9e253d51-cee9-4588-83dd-c80a0ceb5baf",
   "metadata": {},
   "outputs": [],
   "source": [
    "def create_model(input_shape, num_classes):\n",
    "    # Load the MobileNetV2 model with pre-trained weights on ImageNet\n",
    "    base_model = MobileNetV2(\n",
    "        weights='imagenet', \n",
    "        include_top=False, \n",
    "        input_shape=input_shape\n",
    "    )\n",
    "    \n",
    "    # Add a global spatial average pooling layer\n",
    "    x = base_model.output\n",
    "    x = GlobalAveragePooling2D()(x)\n",
    "    \n",
    "    # Add a dense layer with 128 neurons and ReLU activation\n",
    "    x = Dense(128, activation='relu')(x)\n",
    "    \n",
    "    # Add a final dense layer with 4 neurons (one for each class) and softmax activation\n",
    "    predictions = Dense(num_classes, activation='softmax')(x)\n",
    "    \n",
    "    # Create the new model with the modified architecture\n",
    "    model = Model(inputs=base_model.input, outputs=predictions)\n",
    "    \n",
    "    # Freeze the weights of the base model to avoid overfitting on small datasets\n",
    "    for layer in base_model.layers:\n",
    "        layer.trainable = False\n",
    "\n",
    "    return model"
   ]
  },
  {
   "cell_type": "code",
   "execution_count": 4,
   "id": "11b5a1f1-b6c4-4dd1-956a-c7586efc36b8",
   "metadata": {},
   "outputs": [],
   "source": [
    "input_shape = (224, 224, 3)\n",
    "num_classes = 4\n",
    "batch_size = 32\n",
    "epochs = 50\n",
    "lr = 0.001"
   ]
  },
  {
   "cell_type": "code",
   "execution_count": 5,
   "id": "3220a3c1-753b-4f37-90e3-ebd7ec459338",
   "metadata": {},
   "outputs": [
    {
     "data": {
      "text/plain": [
       "((3723, 224, 224, 3), (931, 224, 224, 3), (518, 224, 224, 3))"
      ]
     },
     "execution_count": 5,
     "metadata": {},
     "output_type": "execute_result"
    }
   ],
   "source": [
    "# Dataset directory\n",
    "dataset_directory = \"data/MSID_US_AUG\"\n",
    "\n",
    "# Load dataset into x_train and y_train arrays\n",
    "x_train, y_train = load_dataset(dataset_directory)\n",
    "\n",
    "# Split the dataset into training and testing sets\n",
    "x_train, x_test, y_train, y_test = train_test_split(x_train, y_train, test_size=0.1)\n",
    "\n",
    "# Split the dataset into training and validation sets\n",
    "x_train, x_val, y_train, y_val = train_test_split(x_train, y_train, test_size=0.2)\n",
    "\n",
    "# Reshaping labelst to (x, 4)\n",
    "y_train_one_hot = tf.keras.utils.to_categorical(y_train, num_classes=num_classes)\n",
    "y_val_one_hot = tf.keras.utils.to_categorical(y_val, num_classes=num_classes)\n",
    "\n",
    "x_train.shape, x_val.shape, x_test.shape"
   ]
  },
  {
   "cell_type": "code",
   "execution_count": 39,
   "id": "7343f657-19d4-41c8-bc58-1943708705eb",
   "metadata": {
    "scrolled": true
   },
   "outputs": [
    {
     "name": "stdout",
     "output_type": "stream",
     "text": [
      "Epoch 1/50\n",
      "117/117 [==============================] - 30s 247ms/step - loss: 0.4482 - accuracy: 0.8372 - val_loss: 0.2863 - val_accuracy: 0.9023 - lr: 0.0010\n",
      "Epoch 2/50\n",
      "117/117 [==============================] - 25s 213ms/step - loss: 0.1526 - accuracy: 0.9519 - val_loss: 0.1827 - val_accuracy: 0.9420 - lr: 0.0010\n",
      "Epoch 3/50\n",
      "117/117 [==============================] - 24s 209ms/step - loss: 0.0908 - accuracy: 0.9726 - val_loss: 0.1544 - val_accuracy: 0.9463 - lr: 0.0010\n",
      "Epoch 4/50\n",
      "117/117 [==============================] - 25s 211ms/step - loss: 0.0447 - accuracy: 0.9895 - val_loss: 0.1433 - val_accuracy: 0.9549 - lr: 0.0010\n",
      "Epoch 5/50\n",
      "117/117 [==============================] - 25s 212ms/step - loss: 0.0230 - accuracy: 0.9970 - val_loss: 0.1488 - val_accuracy: 0.9538 - lr: 0.0010\n",
      "Epoch 6/50\n",
      "117/117 [==============================] - 25s 213ms/step - loss: 0.0128 - accuracy: 0.9989 - val_loss: 0.1319 - val_accuracy: 0.9592 - lr: 0.0010\n",
      "Epoch 7/50\n",
      "117/117 [==============================] - 25s 212ms/step - loss: 0.0069 - accuracy: 1.0000 - val_loss: 0.1400 - val_accuracy: 0.9549 - lr: 0.0010\n",
      "Epoch 8/50\n",
      "117/117 [==============================] - 25s 210ms/step - loss: 0.0045 - accuracy: 1.0000 - val_loss: 0.1323 - val_accuracy: 0.9592 - lr: 0.0010\n",
      "Epoch 9/50\n",
      "117/117 [==============================] - 25s 212ms/step - loss: 0.0035 - accuracy: 1.0000 - val_loss: 0.1334 - val_accuracy: 0.9549 - lr: 0.0010\n",
      "Epoch 10/50\n",
      "117/117 [==============================] - 24s 209ms/step - loss: 0.0028 - accuracy: 1.0000 - val_loss: 0.1388 - val_accuracy: 0.9527 - lr: 0.0010\n",
      "Epoch 11/50\n",
      "117/117 [==============================] - 24s 208ms/step - loss: 0.0023 - accuracy: 1.0000 - val_loss: 0.1410 - val_accuracy: 0.9570 - lr: 0.0010\n",
      "Epoch 12/50\n",
      "117/117 [==============================] - 25s 211ms/step - loss: 0.0019 - accuracy: 1.0000 - val_loss: 0.1466 - val_accuracy: 0.9560 - lr: 0.0010\n",
      "Epoch 13/50\n",
      "117/117 [==============================] - 24s 209ms/step - loss: 0.0015 - accuracy: 1.0000 - val_loss: 0.1379 - val_accuracy: 0.9549 - lr: 0.0010\n",
      "Epoch 14/50\n",
      "117/117 [==============================] - 25s 212ms/step - loss: 0.0013 - accuracy: 1.0000 - val_loss: 0.1396 - val_accuracy: 0.9570 - lr: 1.0000e-04\n",
      "Epoch 15/50\n",
      "117/117 [==============================] - 25s 210ms/step - loss: 0.0013 - accuracy: 1.0000 - val_loss: 0.1395 - val_accuracy: 0.9570 - lr: 1.0000e-04\n",
      "Epoch 16/50\n",
      "117/117 [==============================] - 25s 212ms/step - loss: 0.0012 - accuracy: 1.0000 - val_loss: 0.1400 - val_accuracy: 0.9570 - lr: 1.0000e-04\n",
      "Epoch 17/50\n",
      "117/117 [==============================] - 25s 212ms/step - loss: 0.0012 - accuracy: 1.0000 - val_loss: 0.1395 - val_accuracy: 0.9581 - lr: 1.0000e-04\n",
      "Epoch 18/50\n",
      "117/117 [==============================] - 24s 209ms/step - loss: 0.0012 - accuracy: 1.0000 - val_loss: 0.1400 - val_accuracy: 0.9581 - lr: 1.0000e-04\n",
      "Epoch 19/50\n",
      "117/117 [==============================] - 25s 210ms/step - loss: 0.0012 - accuracy: 1.0000 - val_loss: 0.1401 - val_accuracy: 0.9581 - lr: 1.0000e-04\n",
      "Epoch 20/50\n",
      "117/117 [==============================] - 25s 213ms/step - loss: 0.0012 - accuracy: 1.0000 - val_loss: 0.1399 - val_accuracy: 0.9581 - lr: 1.0000e-04\n",
      "Epoch 21/50\n",
      "117/117 [==============================] - 25s 213ms/step - loss: 0.0011 - accuracy: 1.0000 - val_loss: 0.1399 - val_accuracy: 0.9581 - lr: 1.0000e-05\n",
      "Epoch 22/50\n",
      "117/117 [==============================] - 25s 211ms/step - loss: 0.0011 - accuracy: 1.0000 - val_loss: 0.1399 - val_accuracy: 0.9581 - lr: 1.0000e-05\n",
      "Epoch 23/50\n",
      "117/117 [==============================] - 25s 211ms/step - loss: 0.0011 - accuracy: 1.0000 - val_loss: 0.1399 - val_accuracy: 0.9581 - lr: 1.0000e-05\n",
      "Epoch 24/50\n",
      "117/117 [==============================] - 25s 212ms/step - loss: 0.0011 - accuracy: 1.0000 - val_loss: 0.1400 - val_accuracy: 0.9581 - lr: 1.0000e-05\n",
      "Epoch 25/50\n",
      "117/117 [==============================] - 25s 210ms/step - loss: 0.0011 - accuracy: 1.0000 - val_loss: 0.1400 - val_accuracy: 0.9581 - lr: 1.0000e-05\n",
      "Epoch 26/50\n",
      "117/117 [==============================] - 25s 212ms/step - loss: 0.0011 - accuracy: 1.0000 - val_loss: 0.1401 - val_accuracy: 0.9581 - lr: 1.0000e-05\n",
      "Epoch 27/50\n",
      "117/117 [==============================] - 25s 213ms/step - loss: 0.0011 - accuracy: 1.0000 - val_loss: 0.1400 - val_accuracy: 0.9581 - lr: 1.0000e-05\n",
      "Epoch 28/50\n",
      "117/117 [==============================] - 25s 214ms/step - loss: 0.0011 - accuracy: 1.0000 - val_loss: 0.1401 - val_accuracy: 0.9581 - lr: 1.0000e-06\n",
      "Epoch 29/50\n",
      "117/117 [==============================] - 25s 213ms/step - loss: 0.0011 - accuracy: 1.0000 - val_loss: 0.1401 - val_accuracy: 0.9581 - lr: 1.0000e-06\n",
      "Epoch 30/50\n",
      "117/117 [==============================] - 25s 211ms/step - loss: 0.0011 - accuracy: 1.0000 - val_loss: 0.1401 - val_accuracy: 0.9581 - lr: 1.0000e-06\n",
      "Epoch 31/50\n",
      "117/117 [==============================] - 25s 212ms/step - loss: 0.0011 - accuracy: 1.0000 - val_loss: 0.1401 - val_accuracy: 0.9581 - lr: 1.0000e-06\n",
      "Epoch 32/50\n",
      "117/117 [==============================] - 26s 220ms/step - loss: 0.0011 - accuracy: 1.0000 - val_loss: 0.1401 - val_accuracy: 0.9581 - lr: 1.0000e-06\n",
      "Epoch 33/50\n",
      "117/117 [==============================] - 25s 211ms/step - loss: 0.0011 - accuracy: 1.0000 - val_loss: 0.1401 - val_accuracy: 0.9581 - lr: 1.0000e-06\n",
      "Epoch 34/50\n",
      "117/117 [==============================] - 26s 220ms/step - loss: 0.0011 - accuracy: 1.0000 - val_loss: 0.1401 - val_accuracy: 0.9581 - lr: 1.0000e-06\n",
      "Epoch 35/50\n",
      "117/117 [==============================] - 25s 217ms/step - loss: 0.0011 - accuracy: 1.0000 - val_loss: 0.1401 - val_accuracy: 0.9581 - lr: 1.0000e-07\n",
      "Epoch 36/50\n",
      "117/117 [==============================] - 25s 213ms/step - loss: 0.0011 - accuracy: 1.0000 - val_loss: 0.1401 - val_accuracy: 0.9581 - lr: 1.0000e-07\n",
      "Epoch 37/50\n",
      "117/117 [==============================] - 25s 210ms/step - loss: 0.0011 - accuracy: 1.0000 - val_loss: 0.1401 - val_accuracy: 0.9581 - lr: 1.0000e-07\n",
      "Epoch 38/50\n",
      "117/117 [==============================] - 25s 211ms/step - loss: 0.0011 - accuracy: 1.0000 - val_loss: 0.1401 - val_accuracy: 0.9581 - lr: 1.0000e-07\n",
      "Epoch 39/50\n",
      "117/117 [==============================] - 25s 212ms/step - loss: 0.0011 - accuracy: 1.0000 - val_loss: 0.1401 - val_accuracy: 0.9581 - lr: 1.0000e-07\n",
      "Epoch 40/50\n",
      "117/117 [==============================] - 25s 211ms/step - loss: 0.0011 - accuracy: 1.0000 - val_loss: 0.1401 - val_accuracy: 0.9581 - lr: 1.0000e-07\n",
      "Epoch 41/50\n",
      "117/117 [==============================] - 25s 212ms/step - loss: 0.0011 - accuracy: 1.0000 - val_loss: 0.1401 - val_accuracy: 0.9581 - lr: 1.0000e-07\n",
      "Epoch 42/50\n",
      "117/117 [==============================] - 25s 211ms/step - loss: 0.0011 - accuracy: 1.0000 - val_loss: 0.1401 - val_accuracy: 0.9581 - lr: 1.0000e-08\n",
      "Epoch 43/50\n",
      "117/117 [==============================] - 25s 214ms/step - loss: 0.0011 - accuracy: 1.0000 - val_loss: 0.1401 - val_accuracy: 0.9581 - lr: 1.0000e-08\n",
      "Epoch 44/50\n",
      "117/117 [==============================] - 25s 212ms/step - loss: 0.0011 - accuracy: 1.0000 - val_loss: 0.1401 - val_accuracy: 0.9581 - lr: 1.0000e-08\n",
      "Epoch 45/50\n",
      "117/117 [==============================] - 25s 210ms/step - loss: 0.0011 - accuracy: 1.0000 - val_loss: 0.1401 - val_accuracy: 0.9581 - lr: 1.0000e-08\n",
      "Epoch 46/50\n",
      "117/117 [==============================] - 25s 211ms/step - loss: 0.0011 - accuracy: 1.0000 - val_loss: 0.1401 - val_accuracy: 0.9581 - lr: 1.0000e-08\n",
      "Epoch 47/50\n",
      "117/117 [==============================] - 25s 211ms/step - loss: 0.0011 - accuracy: 1.0000 - val_loss: 0.1401 - val_accuracy: 0.9581 - lr: 1.0000e-08\n",
      "Epoch 48/50\n",
      "117/117 [==============================] - 25s 214ms/step - loss: 0.0011 - accuracy: 1.0000 - val_loss: 0.1401 - val_accuracy: 0.9581 - lr: 1.0000e-08\n",
      "Epoch 49/50\n",
      "117/117 [==============================] - 24s 208ms/step - loss: 0.0011 - accuracy: 1.0000 - val_loss: 0.1401 - val_accuracy: 0.9581 - lr: 1.0000e-09\n",
      "Epoch 50/50\n",
      "117/117 [==============================] - 24s 206ms/step - loss: 0.0011 - accuracy: 1.0000 - val_loss: 0.1401 - val_accuracy: 0.9581 - lr: 1.0000e-09\n"
     ]
    },
    {
     "data": {
      "text/plain": [
       "<keras.callbacks.History at 0x1475e9810>"
      ]
     },
     "execution_count": 39,
     "metadata": {},
     "output_type": "execute_result"
    }
   ],
   "source": [
    "model = create_model(input_shape, num_classes)\n",
    "\n",
    "model.compile(loss='categorical_crossentropy', optimizer='adam', metrics=['accuracy'])\n",
    "\n",
    "# Set up the learning rate schedule\n",
    "reduce_lr = ReduceLROnPlateau(monitor='val_loss', factor=0.1, patience=7)\n",
    "\n",
    "# Train the model using fit_generator with the learning rate schedule\n",
    "model.fit(\n",
    "    x_train, \n",
    "    y_train_one_hot,\n",
    "    epochs=epochs,\n",
    "    batch_size=batch_size,\n",
    "    validation_data=(x_val, y_val_one_hot), \n",
    "    callbacks=[reduce_lr], \n",
    "    verbose=1)"
   ]
  },
  {
   "cell_type": "code",
   "execution_count": 40,
   "id": "3dceef96-1108-4c8a-b79b-986c59256942",
   "metadata": {},
   "outputs": [
    {
     "name": "stdout",
     "output_type": "stream",
     "text": [
      "17/17 [==============================] - 3s 178ms/step\n",
      "Metrics:\n",
      "Precision: 0.9703034034930587\n",
      "Recall: 0.9705895436849943\n",
      "F1 Score: 0.9702962183760808\n",
      "Accuracy: 0.971042471042471\n",
      "\n"
     ]
    }
   ],
   "source": [
    "\n",
    "# Predict on the validation data\n",
    "y_pred = model.predict(x_test)\n",
    "y_pred_labels = np.argmax(y_pred, axis=1)\n",
    "\n",
    "# Calculate the metrics\n",
    "precision = precision_score(y_test, y_pred_labels, average='macro')\n",
    "recall = recall_score(y_test, y_pred_labels, average='macro')\n",
    "f1 = f1_score(y_test, y_pred_labels, average='macro')\n",
    "accuracy = accuracy_score(y_test, y_pred_labels)\n",
    "\n",
    "# Print the metrics\n",
    "print(f\"Metrics:\")\n",
    "print(\"Precision:\", precision)\n",
    "print(\"Recall:\", recall)\n",
    "print(\"F1 Score:\", f1)\n",
    "print(\"Accuracy:\", accuracy)\n",
    "print()"
   ]
  },
  {
   "cell_type": "code",
   "execution_count": 34,
   "id": "ea89f95c-a936-4d7f-a3d2-3e07dc1bcb02",
   "metadata": {},
   "outputs": [],
   "source": [
    "model.save('models/mobilenetv2_split_validation.h5')"
   ]
  },
  {
   "cell_type": "code",
   "execution_count": 6,
   "id": "cafe905f-83d9-436f-8e4a-d1a9e6dc7176",
   "metadata": {},
   "outputs": [],
   "source": [
    "model = tf.keras.models.load_model('models/mobilenetv2_split_validation.h5')"
   ]
  },
  {
   "cell_type": "code",
   "execution_count": 7,
   "id": "d25f8c83-e769-41df-928e-1a90f8752de2",
   "metadata": {},
   "outputs": [
    {
     "name": "stderr",
     "output_type": "stream",
     "text": [
      "2023-06-13 22:31:42.427759: W tensorflow/tsl/platform/profile_utils/cpu_utils.cc:128] Failed to get CPU frequency: 0 Hz\n"
     ]
    },
    {
     "name": "stdout",
     "output_type": "stream",
     "text": [
      "17/17 [==============================] - 3s 158ms/step\n"
     ]
    },
    {
     "data": {
      "image/png": "[encoded data removed]",
      "text/plain": [
       "<Figure size 640x480 with 2 Axes>"
      ]
     },
     "metadata": {},
     "output_type": "display_data"
    }
   ],
   "source": [
    "# Predict on the validation data\n",
    "y_pred = model.predict(x_test)\n",
    "y_pred_labels = np.argmax(y_pred, axis=1)\n",
    "\n",
    "\n",
    "y_pred_labels = np.argmax(y_pred, axis=1)  \n",
    "\n",
    "# Calcular la matriz de confusión\n",
    "cm = confusion_matrix(y_test, y_pred_labels)\n",
    "\n",
    "# Obtener las etiquetas de las clases\n",
    "class_labels = ['Chickenpox', 'Measles', 'Monkeypox', 'Normal']  # Reemplaza con tus etiquetas de clases\n",
    "\n",
    "# Plotear la matriz de confusión\n",
    "plt.imshow(cm, interpolation='nearest', cmap=plt.cm.Blues)\n",
    "plt.title('Matriz de confusion')\n",
    "plt.colorbar()\n",
    "tick_marks = np.arange(len(class_labels))\n",
    "plt.xticks(tick_marks, class_labels, rotation=45)\n",
    "plt.yticks(tick_marks, class_labels)\n",
    "\n",
    "# Agregar los valores de la matriz en cada celda\n",
    "thresh = cm.max() / 2.0\n",
    "for i, j in itertools.product(range(cm.shape[0]), range(cm.shape[1])):\n",
    "    plt.text(j, i, format(cm[i, j], 'd'), horizontalalignment=\"center\",\n",
    "             color=\"white\" if cm[i, j] > thresh else \"black\")\n",
    "\n",
    "plt.tight_layout()\n",
    "plt.ylabel('Etiqueta Verdadera')\n",
    "plt.xlabel('Etiqueta Predicha')\n",
    "\n",
    "# Mostrar el plot\n",
    "plt.show()"
   ]
  },
  {
   "cell_type": "code",
   "execution_count": null,
   "id": "4f165761-c9c3-45d6-ad1d-51e210ac23ac",
   "metadata": {},
   "outputs": [],
   "source": []
  }
 ],
 "metadata": {
  "kernelspec": {
   "display_name": "Python 3 (ipykernel)",
   "language": "python",
   "name": "python3"
  },
  "language_info": {
   "codemirror_mode": {
    "name": "ipython",
    "version": 3
   },
   "file_extension": ".py",
   "mimetype": "text/x-python",
   "name": "python",
   "nbconvert_exporter": "python",
   "pygments_lexer": "ipython3",
   "version": "3.11.0"
  }
 },
 "nbformat": 4,
 "nbformat_minor": 5
}
