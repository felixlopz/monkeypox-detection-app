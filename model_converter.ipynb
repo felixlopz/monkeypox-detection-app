{
 "cells": [
  {
   "cell_type": "code",
   "execution_count": 1,
   "id": "139a8b78-f14a-4786-ad73-c8fe83568953",
   "metadata": {
    "tags": []
   },
   "outputs": [
    {
     "name": "stdout",
     "output_type": "stream",
     "text": [
      "\u001b[31mERROR: Could not find a version that satisfies the requirement tflite-support==0.1.0rc4 (from versions: 0.1.0a0.dev3, 0.1.0a0.dev4, 0.1.0a0.dev5, 0.1.0a0, 0.1.0a1, 0.2.0, 0.3.0, 0.3.1, 0.4.0rc0, 0.4.0, 0.4.1, 0.4.2, 0.4.3)\u001b[0m\n",
      "\u001b[31mERROR: No matching distribution found for tflite-support==0.1.0rc4\u001b[0m\n",
      "Note: you may need to restart the kernel to use updated packages.\n"
     ]
    }
   ],
   "source": [
    "pip install tflite-support==0.1.0rc4"
   ]
  },
  {
   "cell_type": "code",
   "execution_count": null,
   "id": "d62c030c-b8b7-46bc-aedc-87bc065b6324",
   "metadata": {},
   "outputs": [],
   "source": [
    "import tensorflow as tf\n",
    "\n",
    "# model = tf.keras.models.load_model('models/mobilenetv2_yuka.h5')"
   ]
  },
  {
   "cell_type": "code",
   "execution_count": null,
   "id": "96723227-8fea-4c87-9743-39c1eedc51de",
   "metadata": {},
   "outputs": [],
   "source": [
    "from tensorflow import keras\n",
    "from tensorflow.keras import layers\n",
    "from tensorflow.keras import backend as K\n",
    "from tensorflow.lite.experimental import load_delegate\n",
    "\n",
    "converter = tf.lite.TFLiteConverter.from_keras_model(model)\n",
    "tflite_model = converter.convert()\n",
    "\n",
    "open(\"model.tflite\", \"wb\").write(tflite_model)"
   ]
  }
 ],
 "metadata": {
  "kernelspec": {
   "display_name": "Python 3 (ipykernel)",
   "language": "python",
   "name": "python3"
  },
  "language_info": {
   "codemirror_mode": {
    "name": "ipython",
    "version": 3
   },
   "file_extension": ".py",
   "mimetype": "text/x-python",
   "name": "python",
   "nbconvert_exporter": "python",
   "pygments_lexer": "ipython3",
   "version": "3.9.12"
  }
 },
 "nbformat": 4,
 "nbformat_minor": 5
}
