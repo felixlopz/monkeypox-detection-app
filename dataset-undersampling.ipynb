{
 "cells": [
  {
   "cell_type": "code",
   "execution_count": 4,
   "id": "a6807827-063a-4fd4-81ce-52341fcdfd26",
   "metadata": {},
   "outputs": [],
   "source": [
    "import os\n",
    "import shutil\n",
    "import random\n",
    "import cv2\n",
    "\n",
    "def undersample_dataset(input_folder, output_folder, classes_to_undersample, undersampling_ratio):\n",
    "    num_images_undersampled = {}\n",
    "    num_images_original = {}\n",
    "\n",
    "    for class_name in os.listdir(input_folder):\n",
    "        if class_name in classes_to_undersample:\n",
    "            class_folder = os.path.join(input_folder, class_name)\n",
    "            output_class_folder = os.path.join(output_folder, class_name)\n",
    "\n",
    "            if not os.path.exists(output_class_folder):\n",
    "                os.makedirs(output_class_folder)\n",
    "\n",
    "            num_images_undersampled[class_name] = 0\n",
    "            num_images_original[class_name] = 0\n",
    "\n",
    "            for image_name in os.listdir(class_folder):\n",
    "                image_path = os.path.join(class_folder, image_name)\n",
    "                image = cv2.imread(image_path)\n",
    "\n",
    "                if random.uniform(0, 1) <= undersampling_ratio:\n",
    "                    output_image_path = os.path.join(output_class_folder, image_name)\n",
    "                    cv2.imwrite(output_image_path, image)\n",
    "                    num_images_undersampled[class_name] += 1\n",
    "\n",
    "                num_images_original[class_name] += 1\n",
    "        else:\n",
    "            shutil.copytree(os.path.join(input_folder, class_name), os.path.join(output_folder, class_name))\n",
    "\n",
    "    return num_images_undersampled, num_images_original"
   ]
  },
  {
   "cell_type": "code",
   "execution_count": 6,
   "id": "87664bb7-5ced-4c4b-8981-5306a5d291f3",
   "metadata": {},
   "outputs": [],
   "source": [
    "# Define the paths to your input and output folders\n",
    "input_folder = \"data/MSID\"\n",
    "output_folder = \"data/MSID_US\"\n",
    "\n",
    "# Define the classes that you want to undersample\n",
    "classes_to_undersample = [\"Monkeypox\", \"Normal\"]\n",
    "\n",
    "# Define the undersampling ratio\n",
    "undersampling_ratio = 0.4\n",
    "\n",
    "num_images_undersampled, num_images_original = undersample_dataset(input_folder, output_folder, classes_to_undersample, undersampling_ratio)"
   ]
  },
  {
   "cell_type": "code",
   "execution_count": 9,
   "id": "3d4048f0-338e-41db-8d7a-3471d1e1fe02",
   "metadata": {},
   "outputs": [
    {
     "name": "stdout",
     "output_type": "stream",
     "text": [
      "original {'Normal': 293, 'Monkeypox': 279}\n",
      "undersampled {'Normal': 123, 'Monkeypox': 116}\n"
     ]
    }
   ],
   "source": [
    "print('original', num_images_original)\n",
    "\n",
    "print('undersampled', num_images_undersampled)"
   ]
  },
  {
   "cell_type": "code",
   "execution_count": null,
   "id": "f72bf9fd-c1b0-4340-b73d-b52bd103c45d",
   "metadata": {},
   "outputs": [],
   "source": []
  }
 ],
 "metadata": {
  "kernelspec": {
   "display_name": "Python 3 (ipykernel)",
   "language": "python",
   "name": "python3"
  },
  "language_info": {
   "codemirror_mode": {
    "name": "ipython",
    "version": 3
   },
   "file_extension": ".py",
   "mimetype": "text/x-python",
   "name": "python",
   "nbconvert_exporter": "python",
   "pygments_lexer": "ipython3",
   "version": "3.11.0"
  }
 },
 "nbformat": 4,
 "nbformat_minor": 5
}
