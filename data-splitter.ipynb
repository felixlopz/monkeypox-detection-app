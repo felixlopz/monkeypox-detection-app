{
 "cells": [
  {
   "cell_type": "code",
   "execution_count": 1,
   "id": "0c2002aa-cbf0-41d0-ab95-634ad936515f",
   "metadata": {},
   "outputs": [],
   "source": [
    "import os\n",
    "import random\n",
    "from shutil import copyfile\n",
    "\n",
    "# Set the path to your dataset\n",
    "dataset_path = \"data/MSID_US_AUG\"\n",
    "\n",
    "# Set the path to the directory where you want to save the split dataset\n",
    "split_path = \"data/MSID_US_AUG_SP\"\n",
    "\n",
    "# Set the percentage of data to use for training and testing\n",
    "train_percent = 0.8\n",
    "test_percent = 0.2\n",
    "\n",
    "# Set the percentage of training data to use for validation\n",
    "validation_percent = 0.2"
   ]
  },
  {
   "cell_type": "code",
   "execution_count": 2,
   "id": "48e91493-c44d-483a-be6f-09db2e6bd007",
   "metadata": {
    "tags": []
   },
   "outputs": [],
   "source": [
    "\n",
    "\n",
    "# Create subdirectories for train, test, and validation data\n",
    "train_path = os.path.join(split_path, \"train\")\n",
    "os.makedirs(train_path, exist_ok=True)\n",
    "test_path = os.path.join(split_path, \"test\")\n",
    "os.makedirs(test_path, exist_ok=True)\n",
    "validation_path = os.path.join(split_path, \"validation\")\n",
    "os.makedirs(validation_path, exist_ok=True)\n",
    "\n",
    "# Loop through each class directory in the dataset and split the data\n",
    "for class_dir in os.listdir(dataset_path):\n",
    "    if os.path.isdir(os.path.join(dataset_path, class_dir)):\n",
    "        # Create subdirectories for each class in the train, test, and validation directories\n",
    "        train_class_path = os.path.join(train_path, class_dir)\n",
    "        os.makedirs(train_class_path, exist_ok=True)\n",
    "        test_class_path = os.path.join(test_path, class_dir)\n",
    "        os.makedirs(test_class_path, exist_ok=True)\n",
    "        validation_class_path = os.path.join(validation_path, class_dir)\n",
    "        os.makedirs(validation_class_path, exist_ok=True)\n",
    "\n",
    "        # Get a list of all image files for this class\n",
    "        all_images = os.listdir(os.path.join(dataset_path, class_dir))\n",
    "        random.shuffle(all_images)\n",
    "\n",
    "        # Calculate the number of images for each split\n",
    "        num_train = int(len(all_images) * train_percent)\n",
    "        num_test = int(len(all_images) * test_percent)\n",
    "        num_validation = int(num_train * validation_percent)\n",
    "\n",
    "        # Split the images and copy them to the appropriate directories\n",
    "        for i, image_file in enumerate(all_images):\n",
    "            source_path = os.path.join(dataset_path, class_dir, image_file)\n",
    "            if i < num_train:\n",
    "                if i < num_validation:\n",
    "                    destination_path = os.path.join(validation_class_path, image_file)\n",
    "                else:\n",
    "                    destination_path = os.path.join(train_class_path, image_file)\n",
    "            else:\n",
    "                destination_path = os.path.join(test_class_path, image_file)\n",
    "            copyfile(source_path, destination_path)"
   ]
  },
  {
   "cell_type": "code",
   "execution_count": 3,
   "id": "cb174110-858c-405a-bd2c-eadffa1e6596",
   "metadata": {
    "tags": []
   },
   "outputs": [
    {
     "name": "stdout",
     "output_type": "stream",
     "text": [
      "Train set:\n",
      " - Measles: 699 images\n",
      " - Chickenpox: 822 images\n",
      " - Normal: 868 images\n",
      " - Monkeypox: 922 images\n",
      "Total: 3311 images\n",
      "\n",
      "Test set:\n",
      " - Measles: 219 images\n",
      " - Chickenpox: 257 images\n",
      " - Normal: 272 images\n",
      " - Monkeypox: 288 images\n",
      "Total: 1036 images\n",
      "\n",
      "Validation set:\n",
      " - Measles: 174 images\n",
      " - Chickenpox: 205 images\n",
      " - Normal: 216 images\n",
      " - Monkeypox: 230 images\n",
      "Total: 825 images\n",
      "\n"
     ]
    }
   ],
   "source": [
    "# Loop through each class directory in the split directories and print the number of images\n",
    "for split_dir in [\"train\", \"test\", \"validation\"]:\n",
    "    print(f\"{split_dir.capitalize()} set:\")\n",
    "    class_counts = {}\n",
    "    for class_dir in os.listdir(os.path.join(split_path, split_dir)):\n",
    "        if os.path.isdir(os.path.join(split_path, split_dir, class_dir)):\n",
    "            num_images = len(os.listdir(os.path.join(split_path, split_dir, class_dir)))\n",
    "            print(f\" - {class_dir}: {num_images} images\")\n",
    "            class_counts[class_dir] = num_images\n",
    "    total_count = sum(class_counts.values())\n",
    "    print(f\"Total: {total_count} images\\n\")"
   ]
  },
  {
   "cell_type": "code",
   "execution_count": null,
   "id": "1fa1b850-2869-4b45-836a-9c95781b0815",
   "metadata": {},
   "outputs": [],
   "source": []
  }
 ],
 "metadata": {
  "kernelspec": {
   "display_name": "Python 3 (ipykernel)",
   "language": "python",
   "name": "python3"
  },
  "language_info": {
   "codemirror_mode": {
    "name": "ipython",
    "version": 3
   },
   "file_extension": ".py",
   "mimetype": "text/x-python",
   "name": "python",
   "nbconvert_exporter": "python",
   "pygments_lexer": "ipython3",
   "version": "3.9.12"
  }
 },
 "nbformat": 4,
 "nbformat_minor": 5
}
