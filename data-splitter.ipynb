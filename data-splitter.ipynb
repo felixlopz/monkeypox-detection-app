{
 "cells": [
  {
   "cell_type": "code",
   "execution_count": 1,
   "id": "da4c24a3-8033-4cbc-b141-4e1ebea73171",
   "metadata": {},
   "outputs": [],
   "source": [
    "import os\n",
    "import random\n",
    "import shutil"
   ]
  },
  {
   "cell_type": "code",
   "execution_count": 3,
   "id": "48e91493-c44d-483a-be6f-09db2e6bd007",
   "metadata": {
    "tags": []
   },
   "outputs": [],
   "source": [
    "# Set the root directory of your dataset\n",
    "root_dir = 'data/MSID_AUG'\n",
    "\n",
    "# Set the name of the folder to save the split dataset\n",
    "output_dir = 'data/MSID_AUG_SP'\n",
    "\n",
    "# Set the proportion of the split\n",
    "train_ratio = 0.7\n",
    "val_ratio = 0.2\n",
    "test_ratio = 0.1\n",
    "\n",
    "# Create the output directory\n",
    "if not os.path.exists(output_dir):\n",
    "    os.mkdir(output_dir)\n",
    "\n",
    "# Loop through each class folder and split the images\n",
    "for class_folder in os.listdir(root_dir):\n",
    "    class_path = os.path.join(root_dir, class_folder)\n",
    "    if os.path.isdir(class_path):\n",
    "        images = os.listdir(class_path)\n",
    "        random.shuffle(images)\n",
    "        \n",
    "        train_split = int(len(images) * train_ratio)\n",
    "        val_split = int(len(images) * val_ratio)\n",
    "        \n",
    "        train_images = images[:train_split]\n",
    "        val_images = images[train_split:train_split + val_split]\n",
    "        test_images = images[train_split + val_split:]\n",
    "        \n",
    "        for split, split_name in [(train_images, 'train'), (val_images, 'val'), (test_images, 'test')]:\n",
    "            output_split_path = os.path.join(output_dir, split_name, class_folder)\n",
    "            if not os.path.exists(output_split_path):\n",
    "                os.makedirs(output_split_path)\n",
    "            \n",
    "            for image in split:\n",
    "                image_path = os.path.join(class_path, image)\n",
    "                output_image_path = os.path.join(output_split_path, image)\n",
    "                shutil.copyfile(image_path, output_image_path)"
   ]
  },
  {
   "cell_type": "code",
   "execution_count": null,
   "id": "a98a6186-7ee2-4f82-9d97-b6f5bfc8f41b",
   "metadata": {},
   "outputs": [],
   "source": []
  }
 ],
 "metadata": {
  "kernelspec": {
   "display_name": "Python 3 (ipykernel)",
   "language": "python",
   "name": "python3"
  },
  "language_info": {
   "codemirror_mode": {
    "name": "ipython",
    "version": 3
   },
   "file_extension": ".py",
   "mimetype": "text/x-python",
   "name": "python",
   "nbconvert_exporter": "python",
   "pygments_lexer": "ipython3",
   "version": "3.9.12"
  }
 },
 "nbformat": 4,
 "nbformat_minor": 5
}
