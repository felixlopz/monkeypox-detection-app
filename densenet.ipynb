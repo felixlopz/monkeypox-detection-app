{
 "cells": [
  {
   "cell_type": "code",
   "execution_count": 25,
   "id": "305148a8-486f-4144-b997-de695e02aa7d",
   "metadata": {
    "tags": []
   },
   "outputs": [],
   "source": [
    "import tensorflow as tf\n",
    "from tensorflow.keras.layers import Dense, GlobalAveragePooling2D\n",
    "from tensorflow.keras.models import Model\n",
    "from tensorflow.keras.applications.mobilenet_v2 import MobileNetV2\n",
    "from tensorflow.keras.preprocessing.image import ImageDataGenerator"
   ]
  },
  {
   "cell_type": "code",
   "execution_count": 26,
   "id": "7f141f3c-35a5-496d-8adc-1a2eeea0a327",
   "metadata": {
    "tags": []
   },
   "outputs": [],
   "source": [
    "input_shape = (224, 224, 3)\n",
    "num_classes = 4\n",
    "batch_size = 32"
   ]
  },
  {
   "cell_type": "code",
   "execution_count": 27,
   "id": "bfbbcb5c-c796-43d0-a9c5-c4f019d533f0",
   "metadata": {
    "tags": []
   },
   "outputs": [],
   "source": [
    "# Set the paths to the training, test and validation data directories\n",
    "train_dir = 'data/MSID_SP/train'\n",
    "test_dir = 'data/MSID_SP/test'\n",
    "val_dir = 'data/MSID_SP/validation'"
   ]
  },
  {
   "cell_type": "code",
   "execution_count": 28,
   "id": "fe7926a3-c91a-492d-a885-8af8761642f6",
   "metadata": {
    "tags": []
   },
   "outputs": [
    {
     "name": "stdout",
     "output_type": "stream",
     "text": [
      "Found 680 images belonging to 4 classes.\n",
      "Found 245 images belonging to 4 classes.\n",
      "Found 247 images belonging to 4 classes.\n"
     ]
    }
   ],
   "source": [
    "# Create an instance of the ImageDataGenerator class for data augmentation\n",
    "train_datagen = ImageDataGenerator(rescale=1./255)\n",
    "\n",
    "# Create an instance of the ImageDataGenerator class for validation data (no augmentation)\n",
    "val_datagen = ImageDataGenerator(rescale=1./255)\n",
    "\n",
    "# Create an instance of the ImageDataGenerator class for test data (no augmentation)\n",
    "test_datagen = ImageDataGenerator(rescale=1./255)\n",
    "\n",
    "# Load the training data\n",
    "train_generator = train_datagen.flow_from_directory(\n",
    "    train_dir,\n",
    "    target_size=input_shape[:2],\n",
    "    batch_size=batch_size,\n",
    "    class_mode='categorical'\n",
    ")\n",
    "\n",
    "# Load the validation data\n",
    "val_generator = val_datagen.flow_from_directory(\n",
    "    val_dir,\n",
    "    target_size=input_shape[:2],\n",
    "    batch_size=batch_size,\n",
    "    class_mode='categorical'\n",
    ")\n",
    "\n",
    "# Load the test data\n",
    "test_generator = test_datagen.flow_from_directory(\n",
    "    test_dir,\n",
    "    target_size=input_shape[:2],\n",
    "    batch_size=batch_size,\n",
    "    class_mode='categorical'\n",
    ")\n"
   ]
  },
  {
   "cell_type": "code",
   "execution_count": 29,
   "id": "dd93cf2f-d117-4909-8e3f-a43f4c738e58",
   "metadata": {
    "tags": []
   },
   "outputs": [],
   "source": [
    "base_model = MobileNetV2(weights='imagenet', include_top=False, input_shape=input_shape)\n",
    "\n",
    "# Add a global spatial average pooling layer\n",
    "x = base_model.output\n",
    "x = GlobalAveragePooling2D()(x)\n",
    "\n",
    "# Add a fully-connected layer\n",
    "x = Dense(1024, activation='relu')(x)\n",
    "\n",
    "# Add a classification layer\n",
    "predictions = Dense(num_classes, activation='softmax')(x)\n",
    "\n",
    "# Create the model\n",
    "model = Model(inputs=base_model.input, outputs=predictions)\n",
    "\n",
    "# Compile the model with categorical crossentropy loss and Adam optimizer\n",
    "model.compile(loss='categorical_crossentropy',\n",
    "              optimizer='adam',\n",
    "              metrics=['accuracy'])"
   ]
  },
  {
   "cell_type": "code",
   "execution_count": 30,
   "id": "a67dff52-d354-4df7-b8a7-bae1275140b6",
   "metadata": {
    "tags": []
   },
   "outputs": [
    {
     "name": "stdout",
     "output_type": "stream",
     "text": [
      "Epoch 1/10\n",
      "22/22 [==============================] - 35s 1s/step - loss: 0.7989 - accuracy: 0.7265 - val_loss: 18.2187 - val_accuracy: 0.3469\n",
      "Epoch 2/10\n",
      "22/22 [==============================] - 32s 1s/step - loss: 0.4221 - accuracy: 0.8779 - val_loss: 9.5435 - val_accuracy: 0.3918\n",
      "Epoch 3/10\n",
      "22/22 [==============================] - 32s 1s/step - loss: 0.3800 - accuracy: 0.8824 - val_loss: 26.0420 - val_accuracy: 0.3429\n",
      "Epoch 4/10\n",
      "22/22 [==============================] - 32s 1s/step - loss: 0.2835 - accuracy: 0.9118 - val_loss: 12.1935 - val_accuracy: 0.4531\n",
      "Epoch 5/10\n",
      "22/22 [==============================] - 33s 1s/step - loss: 0.1647 - accuracy: 0.9485 - val_loss: 4.2820 - val_accuracy: 0.6163\n",
      "Epoch 6/10\n",
      "22/22 [==============================] - 33s 1s/step - loss: 0.2493 - accuracy: 0.9191 - val_loss: 15.8050 - val_accuracy: 0.4571\n",
      "Epoch 7/10\n",
      "22/22 [==============================] - 33s 1s/step - loss: 0.3630 - accuracy: 0.8735 - val_loss: 7.7440 - val_accuracy: 0.3673\n",
      "Epoch 8/10\n",
      "22/22 [==============================] - 32s 1s/step - loss: 0.2046 - accuracy: 0.9250 - val_loss: 11.4638 - val_accuracy: 0.4245\n",
      "Epoch 9/10\n",
      "22/22 [==============================] - 32s 1s/step - loss: 0.1528 - accuracy: 0.9588 - val_loss: 8.9855 - val_accuracy: 0.3918\n",
      "Epoch 10/10\n",
      "22/22 [==============================] - 32s 1s/step - loss: 0.2393 - accuracy: 0.9279 - val_loss: 22.1502 - val_accuracy: 0.3469\n"
     ]
    }
   ],
   "source": [
    "history = model.fit(train_generator,\n",
    "                    epochs=10,\n",
    "                    validation_data=val_generator)"
   ]
  },
  {
   "cell_type": "code",
   "execution_count": 31,
   "id": "5cdc2473-8fe7-4125-a576-eeed54ea7c0d",
   "metadata": {
    "tags": []
   },
   "outputs": [
    {
     "name": "stdout",
     "output_type": "stream",
     "text": [
      "8/8 [==============================] - 2s 278ms/step - loss: 19.3719 - accuracy: 0.4332\n",
      "Test loss: 19.371889114379883\n",
      "Test accuracy: 0.43319839239120483\n"
     ]
    }
   ],
   "source": [
    "# evaluate the model on the test set\n",
    "loss, accuracy = model.evaluate(test_generator)\n",
    "\n",
    "print('Test loss:', loss)\n",
    "print('Test accuracy:', accuracy)"
   ]
  },
  {
   "cell_type": "code",
   "execution_count": null,
   "id": "20323103-95b5-410a-b850-9d0f2e4c52ba",
   "metadata": {},
   "outputs": [],
   "source": []
  }
 ],
 "metadata": {
  "kernelspec": {
   "display_name": "Python 3 (ipykernel)",
   "language": "python",
   "name": "python3"
  },
  "language_info": {
   "codemirror_mode": {
    "name": "ipython",
    "version": 3
   },
   "file_extension": ".py",
   "mimetype": "text/x-python",
   "name": "python",
   "nbconvert_exporter": "python",
   "pygments_lexer": "ipython3",
   "version": "3.9.12"
  }
 },
 "nbformat": 4,
 "nbformat_minor": 5
}
