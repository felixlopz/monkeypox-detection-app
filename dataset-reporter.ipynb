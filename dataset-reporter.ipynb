{
 "cells": [
  {
   "cell_type": "code",
   "execution_count": 1,
   "id": "52e308c6-fa25-418b-96ce-4a3baa2fffe0",
   "metadata": {
    "tags": []
   },
   "outputs": [
    {
     "name": "stdout",
     "output_type": "stream",
     "text": [
      "Collecting tabulate\n",
      "  Using cached tabulate-0.9.0-py3-none-any.whl (35 kB)\n",
      "Installing collected packages: tabulate\n",
      "Successfully installed tabulate-0.9.0\n"
     ]
    }
   ],
   "source": [
    "import os\n",
    "!pip install tabulate\n",
    "from tabulate import tabulate"
   ]
  },
  {
   "cell_type": "code",
   "execution_count": 2,
   "id": "d4c003a3-af76-4e63-bf15-549a22ddfb11",
   "metadata": {
    "tags": []
   },
   "outputs": [],
   "source": [
    "# Print the number of samples for each class in non-splitted dataset\n",
    "\n",
    "def count_dataset(dataset_dir):\n",
    "    # Create a dictionary to store the image counts for each class\n",
    "    counts = {}\n",
    "\n",
    "    # Loop through each class folder in the dataset\n",
    "    for class_folder in os.listdir(dataset_dir):\n",
    "        class_path = os.path.join(dataset_dir, class_folder)\n",
    "        if os.path.isdir(class_path):\n",
    "            # Count the number of images in the class folder\n",
    "            count = len([f for f in os.listdir(class_path) if f.endswith('.jpg') or f.endswith('.png') or f.endswith('.jpeg')]) # Add your required extensions here\n",
    "            # Add the count to the dictionary\n",
    "            counts[class_folder] = count\n",
    "\n",
    "    return counts\n",
    "\n",
    "def print_dataset(counts):\n",
    "    # Print the report\n",
    "    print('Dataset report:')\n",
    "    for class_folder, count in counts.items():\n",
    "        print(f'{class_folder}: {count} images')\n",
    "\n",
    "    # Print the overall total\n",
    "    overall_total = sum(counts.values())\n",
    "    print(f'Overall total images: {overall_total} images')\n",
    "\n",
    "\n"
   ]
  },
  {
   "cell_type": "code",
   "execution_count": 3,
   "id": "75e268f5-c003-4a9d-97c2-b8c9c166f39c",
   "metadata": {
    "tags": []
   },
   "outputs": [
    {
     "name": "stdout",
     "output_type": "stream",
     "text": [
      "Dataset report:\n",
      "Others: 298 images\n",
      "Monkeypox: 279 images\n",
      "Overall total images: 577 images\n",
      "------------------\n",
      "Dataset report:\n",
      "Others: 3576 images\n",
      "Monkeypox: 3348 images\n",
      "Overall total images: 6924 images\n"
     ]
    }
   ],
   "source": [
    "us_dataset = 'data/MSID_BINARY'\n",
    "us_dataset_count = count_dataset(us_dataset)\n",
    "print_dataset(us_dataset_count)\n",
    "\n",
    "us_aug_dataset = 'data/MSID_BINARY_AUG'\n",
    "us_aug_dataset_count = count_dataset(us_aug_dataset)\n",
    "print('------------------')\n",
    "print_dataset(us_aug_dataset_count)"
   ]
  },
  {
   "cell_type": "code",
   "execution_count": 5,
   "id": "6b6d8421-2334-4f39-8ebe-b01211cd68c8",
   "metadata": {},
   "outputs": [],
   "source": [
    "# Print the number of samples for each class in splitted dataset\n",
    "\n",
    "def print_splitted_dataset(dataset_dir):\n",
    "    # Loop through each class folder in the train, validation, and test subdirectories\n",
    "    classes = os.listdir(os.path.join(dataset_dir, 'train'))\n",
    "    classes.sort() # optional to sort the class folders alphabetically\n",
    "    data = []\n",
    "    total_train = 0\n",
    "    total_val = 0\n",
    "    total_test = 0\n",
    "    for class_folder in classes:\n",
    "        # Count the number of images in the train, validation, and test directories for the class\n",
    "        train_images = len(os.listdir(os.path.join(dataset_dir, 'train', class_folder)))\n",
    "        val_images = len(os.listdir(os.path.join(dataset_dir, 'val', class_folder)))\n",
    "        test_images = len(os.listdir(os.path.join(dataset_dir, 'test', class_folder)))\n",
    "        # Add the number of images to the total for each split\n",
    "        total_train += train_images\n",
    "        total_val += val_images\n",
    "        total_test += test_images\n",
    "        # Add the class data to the data list\n",
    "        data.append([class_folder, train_images, val_images, test_images])\n",
    "\n",
    "    # Add the totals to the data list\n",
    "    data.append(['Total', total_train, total_val, total_test])\n",
    "\n",
    "    # Print the table\n",
    "    headers = ['Class', 'Train Images', 'Validation Images', 'Test Images']\n",
    "    print(tabulate(data, headers=headers))"
   ]
  },
  {
   "cell_type": "code",
   "execution_count": 6,
   "id": "75bec646-eed0-4207-a8f8-0ac3e8bfdc9d",
   "metadata": {
    "tags": []
   },
   "outputs": [
    {
     "name": "stdout",
     "output_type": "stream",
     "text": [
      "Class        Train Images    Validation Images    Test Images\n",
      "---------  --------------  -------------------  -------------\n",
      "Monkeypox            2343                  669            336\n",
      "Others               2503                  715            358\n",
      "Total                4846                 1384            694\n"
     ]
    }
   ],
   "source": [
    "print_splitted_dataset('data/MSID_BINARY_AUG_SP')"
   ]
  },
  {
   "cell_type": "code",
   "execution_count": 11,
   "id": "2e528a40-9214-43d8-9891-ba3dd744c7b5",
   "metadata": {
    "tags": []
   },
   "outputs": [
    {
     "name": "stdout",
     "output_type": "stream",
     "text": [
      "Class         Train Images    Validation Images    Test Images\n",
      "----------  --------------  -------------------  -------------\n",
      "Chickenpox              74                   21             12\n",
      "Measles                 63                   18             10\n",
      "Monkeypox               84                   24             12\n",
      "Normal                  79                   22             12\n",
      "Total                  300                   85             46\n"
     ]
    }
   ],
   "source": [
    "print_splitted_dataset('data/MSID_US_SP')"
   ]
  },
  {
   "cell_type": "code",
   "execution_count": null,
   "id": "b165ba43-4a92-4683-be41-ed54ac5b053e",
   "metadata": {},
   "outputs": [],
   "source": []
  }
 ],
 "metadata": {
  "kernelspec": {
   "display_name": "Python 3 (ipykernel)",
   "language": "python",
   "name": "python3"
  },
  "language_info": {
   "codemirror_mode": {
    "name": "ipython",
    "version": 3
   },
   "file_extension": ".py",
   "mimetype": "text/x-python",
   "name": "python",
   "nbconvert_exporter": "python",
   "pygments_lexer": "ipython3",
   "version": "3.11.0"
  }
 },
 "nbformat": 4,
 "nbformat_minor": 5
}
