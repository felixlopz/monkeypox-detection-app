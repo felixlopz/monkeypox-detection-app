{
 "cells": [
  {
   "cell_type": "code",
   "execution_count": 11,
   "id": "acfb3631-8faa-4e64-ab4b-b739c627fa1c",
   "metadata": {
    "tags": []
   },
   "outputs": [
    {
     "name": "stdout",
     "output_type": "stream",
     "text": [
      "Original dataset:\n",
      "Normal: 293\n",
      "Monkeypox: 279\n",
      "Undersampled dataset:\n",
      "Normal: 113\n",
      "Monkeypox: 120\n"
     ]
    }
   ],
   "source": [
    "import os\n",
    "import cv2\n",
    "import random\n",
    "from collections import defaultdict\n",
    "import shutil\n",
    "\n",
    "# Define the paths to your input and output folders\n",
    "input_folder = \"data/MSID\"\n",
    "output_folder = \"data/MSID_US\"\n",
    "\n",
    "# Define the classes that you want to undersample\n",
    "classes_to_undersample = [\"Monkeypox\", \"Normal\"]\n",
    "\n",
    "# Define the undersampling ratio\n",
    "undersampling_ratio = 0.4\n",
    "\n",
    "# Initialize counters to keep track of the number of images in the original and undersampled dataset\n",
    "num_images_original = defaultdict(int)\n",
    "num_images_undersampled = defaultdict(int)\n",
    "\n",
    "# Loop through the input folder and copy the images to the output folder\n",
    "for class_name in os.listdir(input_folder):\n",
    "    # Check if the class is one of the classes to undersample\n",
    "    if class_name in classes_to_undersample:\n",
    "        # Get the path to the class folder in the input folder\n",
    "        class_folder = os.path.join(input_folder, class_name)\n",
    "        # Get the path to the class folder in the output folder\n",
    "        output_class_folder = os.path.join(output_folder, class_name)\n",
    "        # Create the output class folder if it does not exist\n",
    "        if not os.path.exists(output_class_folder):\n",
    "            os.makedirs(output_class_folder)\n",
    "        # Loop through the images in the class folder\n",
    "        for image_name in os.listdir(class_folder):\n",
    "            # Load the image with OpenCV\n",
    "            image_path = os.path.join(class_folder, image_name)\n",
    "            image = cv2.imread(image_path)\n",
    "            # Check if the image should be undersampled\n",
    "            if random.uniform(0, 1) <= undersampling_ratio:\n",
    "                # Save the image to the output class folder\n",
    "                output_image_path = os.path.join(output_class_folder, image_name)\n",
    "                cv2.imwrite(output_image_path, image)\n",
    "                # Update the counter for the undersampled dataset\n",
    "                num_images_undersampled[class_name] += 1\n",
    "            # Update the counter for the original dataset\n",
    "            num_images_original[class_name] += 1\n",
    "    else:\n",
    "        # If the class is not one of the classes to undersample, copy the entire folder to the output folder\n",
    "        shutil.copytree(os.path.join(input_folder, class_name), os.path.join(output_folder, class_name))\n",
    "\n",
    "# Print the report on the number of images in the original and undersampled dataset\n",
    "print(\"Original dataset:\")\n",
    "for class_name in num_images_original:\n",
    "    print(f\"{class_name}: {num_images_original[class_name]}\")\n",
    "print(\"Undersampled dataset:\")\n",
    "for class_name in num_images_undersampled:\n",
    "    print(f\"{class_name}: {num_images_undersampled[class_name]}\")"
   ]
  },
  {
   "cell_type": "code",
   "execution_count": null,
   "id": "f72bf9fd-c1b0-4340-b73d-b52bd103c45d",
   "metadata": {},
   "outputs": [],
   "source": []
  }
 ],
 "metadata": {
  "kernelspec": {
   "display_name": "Python 3 (ipykernel)",
   "language": "python",
   "name": "python3"
  },
  "language_info": {
   "codemirror_mode": {
    "name": "ipython",
    "version": 3
   },
   "file_extension": ".py",
   "mimetype": "text/x-python",
   "name": "python",
   "nbconvert_exporter": "python",
   "pygments_lexer": "ipython3",
   "version": "3.9.12"
  }
 },
 "nbformat": 4,
 "nbformat_minor": 5
}
